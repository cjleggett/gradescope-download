{
 "cells": [
  {
   "cell_type": "code",
   "execution_count": 2,
   "id": "b4bd110a",
   "metadata": {
    "pycharm": {
     "name": "#%%\n"
    }
   },
   "outputs": [],
   "source": [
    "from selenium import webdriver\n",
    "from webdriver_manager.chrome import ChromeDriverManager\n",
    "from dotenv import load_dotenv\n",
    "import os"
   ]
  },
  {
   "cell_type": "code",
   "execution_count": 13,
   "outputs": [
    {
     "name": "stderr",
     "output_type": "stream",
     "text": [
      "/var/folders/hq/ypf9892n1s94fwgm0p6k6k8m0000gn/T/ipykernel_35540/3579103318.py:7: DeprecationWarning: executable_path has been deprecated, please pass in a Service object\n",
      "  driver = webdriver.Chrome(ChromeDriverManager().install(), chrome_options=options)\n",
      "/var/folders/hq/ypf9892n1s94fwgm0p6k6k8m0000gn/T/ipykernel_35540/3579103318.py:7: DeprecationWarning: use options instead of chrome_options\n",
      "  driver = webdriver.Chrome(ChromeDriverManager().install(), chrome_options=options)\n"
     ]
    }
   ],
   "source": [
    "# Open the browser\n",
    "options = webdriver.ChromeOptions()\n",
    "prefs = {\n",
    "    \"download.default_directory\": f\"{os.getcwd()}/downloads\"\n",
    "}\n",
    "options.add_experimental_option(\"prefs\", prefs)\n",
    "driver = webdriver.Chrome(ChromeDriverManager().install(), chrome_options=options)"
   ],
   "metadata": {
    "collapsed": false,
    "pycharm": {
     "name": "#%%\n"
    }
   }
  },
  {
   "cell_type": "code",
   "execution_count": 14,
   "outputs": [],
   "source": [
    "# Get username and password from .env file\n",
    "load_dotenv()\n",
    "USER = os.getenv(\"USERNAME\")\n",
    "PASS = os.getenv(\"PASS\")\n",
    "COURSE_NO = os.getenv(\"COURSE_NO\")\n",
    "ASSIGNMENT_NO = os.getenv(\"ASSIGNMENT_NO\")\n",
    "BASE_URL = \"https://www.gradescope.com\""
   ],
   "metadata": {
    "collapsed": false,
    "pycharm": {
     "name": "#%%\n"
    }
   }
  },
  {
   "cell_type": "code",
   "execution_count": 16,
   "outputs": [],
   "source": [
    "# Log in\n",
    "login_url = f\"{BASE_URL}/login\"\n",
    "driver.get(login_url)\n",
    "username_input = driver.find_element(\"id\", \"session_email\")\n",
    "password_input = driver.find_element(\"id\", \"session_password\")\n",
    "submit = driver.find_element(\"name\", \"commit\")\n",
    "username_input.send_keys(USER)\n",
    "password_input.send_keys(PASS)\n",
    "submit.click()"
   ],
   "metadata": {
    "collapsed": false,
    "pycharm": {
     "name": "#%%\n"
    }
   }
  },
  {
   "cell_type": "code",
   "execution_count": 17,
   "outputs": [],
   "source": [
    "# Go to assignment \"review grades\" page\n",
    "review_url = f\"{BASE_URL}/courses/{COURSE_NO}/assignments/{ASSIGNMENT_NO}/review_grades\"\n",
    "driver.get(review_url)"
   ],
   "metadata": {
    "collapsed": false,
    "pycharm": {
     "name": "#%%\n"
    }
   }
  },
  {
   "cell_type": "code",
   "execution_count": null,
   "outputs": [],
   "source": [],
   "metadata": {
    "collapsed": false,
    "pycharm": {
     "name": "#%%\n"
    }
   }
  }
 ],
 "metadata": {
  "kernelspec": {
   "display_name": "Python 3 (ipykernel)",
   "language": "python",
   "name": "python3"
  },
  "language_info": {
   "codemirror_mode": {
    "name": "ipython",
    "version": 3
   },
   "file_extension": ".py",
   "mimetype": "text/x-python",
   "name": "python",
   "nbconvert_exporter": "python",
   "pygments_lexer": "ipython3",
   "version": "3.9.13"
  }
 },
 "nbformat": 4,
 "nbformat_minor": 5
}