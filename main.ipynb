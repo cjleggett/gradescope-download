{
 "cells": [
  {
   "cell_type": "code",
   "execution_count": 68,
   "id": "b4bd110a",
   "metadata": {
    "pycharm": {
     "name": "#%%\n"
    }
   },
   "outputs": [],
   "source": [
    "from selenium import webdriver\n",
    "from webdriver_manager.chrome import ChromeDriverManager\n",
    "from dotenv import load_dotenv\n",
    "import os\n",
    "import csv\n",
    "import time\n",
    "import datetime\n",
    "import shutil\n",
    "from jinja2 import Environment, FileSystemLoader"
   ]
  },
  {
   "cell_type": "code",
   "execution_count": 57,
   "outputs": [
    {
     "name": "stderr",
     "output_type": "stream",
     "text": [
      "/var/folders/hq/ypf9892n1s94fwgm0p6k6k8m0000gn/T/ipykernel_35540/3579103318.py:7: DeprecationWarning: executable_path has been deprecated, please pass in a Service object\n",
      "  driver = webdriver.Chrome(ChromeDriverManager().install(), chrome_options=options)\n",
      "/var/folders/hq/ypf9892n1s94fwgm0p6k6k8m0000gn/T/ipykernel_35540/3579103318.py:7: DeprecationWarning: use options instead of chrome_options\n",
      "  driver = webdriver.Chrome(ChromeDriverManager().install(), chrome_options=options)\n"
     ]
    }
   ],
   "source": [
    "# Open the browser\n",
    "options = webdriver.ChromeOptions()\n",
    "prefs = {\n",
    "    \"download.default_directory\": f\"{os.getcwd()}/downloads\"\n",
    "}\n",
    "options.add_experimental_option(\"prefs\", prefs)\n",
    "driver = webdriver.Chrome(ChromeDriverManager().install(), chrome_options=options)"
   ],
   "metadata": {
    "collapsed": false,
    "pycharm": {
     "name": "#%%\n"
    }
   }
  },
  {
   "cell_type": "code",
   "execution_count": 58,
   "outputs": [],
   "source": [
    "# Get username and password from .env file\n",
    "load_dotenv()\n",
    "USER = os.getenv(\"USERNAME\")\n",
    "PASS = os.getenv(\"PASS\")\n",
    "COURSE_NO = os.getenv(\"COURSE_NO\")\n",
    "ASSIGNMENT_NO = os.getenv(\"ASSIGNMENT_NO\")\n",
    "BASE_URL = \"https://www.gradescope.com\""
   ],
   "metadata": {
    "collapsed": false,
    "pycharm": {
     "name": "#%%\n"
    }
   }
  },
  {
   "cell_type": "code",
   "execution_count": 59,
   "outputs": [],
   "source": [
    "# Log in\n",
    "login_url = f\"{BASE_URL}/login\"\n",
    "driver.get(login_url)\n",
    "username_input = driver.find_element(\"id\", \"session_email\")\n",
    "password_input = driver.find_element(\"id\", \"session_password\")\n",
    "submit = driver.find_element(\"name\", \"commit\")\n",
    "username_input.send_keys(USER)\n",
    "password_input.send_keys(PASS)\n",
    "submit.click()"
   ],
   "metadata": {
    "collapsed": false,
    "pycharm": {
     "name": "#%%\n"
    }
   }
  },
  {
   "cell_type": "code",
   "execution_count": 67,
   "outputs": [],
   "source": [
    "# Go to assignment \"review grades\" page\n",
    "download_url = f\"{BASE_URL}/courses/{COURSE_NO}/assignments/{ASSIGNMENT_NO}/scores.csv\"\n",
    "driver.get(download_url)\n",
    "try:\n",
    "    os.remove(f\"{os.getcwd()}/downloads/csv/scores.csv\")\n",
    "except FileNotFoundError:\n",
    "    pass\n",
    "while True:\n",
    "    time.sleep(1)\n",
    "    files = os.listdir(\"downloads/\")\n",
    "    found = False\n",
    "    for file in files:\n",
    "        if \".csv\" in file:\n",
    "            os.rename(f\"downloads/{file}\", f\"downloads/csv/scores.csv\")\n",
    "            found = True\n",
    "    if found:\n",
    "        break"
   ],
   "metadata": {
    "collapsed": false,
    "pycharm": {
     "name": "#%%\n"
    }
   }
  },
  {
   "cell_type": "code",
   "execution_count": 61,
   "outputs": [],
   "source": [
    "# Read CSV to get URLS, names, and TFs\n",
    "tfs = {}\n",
    "with open(\"last_sweep.txt\", \"r\") as f:\n",
    "    last_sweep = f.read()\n",
    "\n",
    "with open(\"downloads/csv/scores.csv\", \"r\") as f:\n",
    "    reader = csv.DictReader(f)\n",
    "    most_recent = last_sweep\n",
    "    for row in reader:\n",
    "        tf = row[\"Sections\"]\n",
    "        if tf not in tfs:\n",
    "            tfs[tf] = []\n",
    "        if row[\"Submission Time\"]:\n",
    "            if row[\"Submission Time\"] > most_recent:\n",
    "                most_recent = row[\"Submission Time\"]\n",
    "            tfs[tf].append({\n",
    "                \"student\": row[\"Name\"],\n",
    "                \"link\": f\"{BASE_URL}/courses/{COURSE_NO}/assignments/{ASSIGNMENT_NO}/submissions/{row    ['Submission ID']}.zip\",\n",
    "                \"submission_id\": row[\"Submission ID\"],\n",
    "                \"sub_time\": row[\"Submission Time\"]\n",
    "            })\n",
    "\n",
    "with open(\"last_sweep.txt\", \"w\") as f:\n",
    "    f.write(most_recent)"
   ],
   "metadata": {
    "collapsed": false,
    "pycharm": {
     "name": "#%%\n"
    }
   }
  },
  {
   "cell_type": "code",
   "execution_count": 62,
   "outputs": [],
   "source": [
    "# Setup TF directories:\n",
    "for tf in tfs:\n",
    "    if not os.path.isdir(f\"downloads/{tf}\"):\n",
    "        os.makedirs(f\"downloads/{tf}\")"
   ],
   "metadata": {
    "collapsed": false,
    "pycharm": {
     "name": "#%%\n"
    }
   }
  },
  {
   "cell_type": "code",
   "execution_count": 66,
   "outputs": [
    {
     "name": "stdout",
     "output_type": "stream",
     "text": [
      "Kamryn Ohly\n"
     ]
    }
   ],
   "source": [
    "def manage_one_sub(tf, student, link, sub_id):\n",
    "    # Download submission\n",
    "    driver.get(link)\n",
    "    while True:\n",
    "        time.sleep(1)\n",
    "        if f\"{sub_id}.zip\" in os.listdir(\"downloads/\"):\n",
    "            break\n",
    "    os.rename(f\"downloads/{sub_id}.zip\", f\"downloads/{tf}/{student}.zip\")\n",
    "    shutil.unpack_archive(f\"downloads/{tf}/{student}.zip\", f\"downloads/{tf}/{student}\")\n",
    "\n",
    "for tf, students in tfs.items():\n",
    "    for student in students:\n",
    "        if student[\"sub_time\"] > last_sweep:\n",
    "            print(f\"Downloading Submission {student['submission_id']}\")\n",
    "            manage_one_sub(tf, student[\"student\"], student[\"link\"], student[\"submission_id\"])"
   ],
   "metadata": {
    "collapsed": false,
    "pycharm": {
     "name": "#%%\n"
    }
   }
  },
  {
   "cell_type": "code",
   "execution_count": 76,
   "outputs": [],
   "source": [
    "# Create index.html\n",
    "environment = Environment(loader=FileSystemLoader(\"templates/\"))\n",
    "template = environment.get_template(\"template.html\")\n",
    "for tf, students in tfs.items():\n",
    "    students = {s[\"student\"]: f\"./{s['student']}/index.html\" for s in students}\n",
    "    content = template.render(\n",
    "        tf=tf,\n",
    "        students=students\n",
    "    )\n",
    "    with open(f\"downloads/{tf}/index.html\", \"w\") as f:\n",
    "        f.write(content)\n"
   ],
   "metadata": {
    "collapsed": false,
    "pycharm": {
     "name": "#%%\n"
    }
   }
  },
  {
   "cell_type": "code",
   "execution_count": null,
   "outputs": [],
   "source": [],
   "metadata": {
    "collapsed": false,
    "pycharm": {
     "name": "#%%\n"
    }
   }
  }
 ],
 "metadata": {
  "kernelspec": {
   "display_name": "Python 3 (ipykernel)",
   "language": "python",
   "name": "python3"
  },
  "language_info": {
   "codemirror_mode": {
    "name": "ipython",
    "version": 3
   },
   "file_extension": ".py",
   "mimetype": "text/x-python",
   "name": "python",
   "nbconvert_exporter": "python",
   "pygments_lexer": "ipython3",
   "version": "3.9.13"
  }
 },
 "nbformat": 4,
 "nbformat_minor": 5
}