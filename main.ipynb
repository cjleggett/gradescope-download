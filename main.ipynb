{
 "cells": [
  {
   "cell_type": "code",
   "execution_count": 45,
   "id": "b4bd110a",
   "metadata": {
    "pycharm": {
     "name": "#%%\n"
    }
   },
   "outputs": [],
   "source": [
    "from selenium import webdriver\n",
    "from webdriver_manager.chrome import ChromeDriverManager\n",
    "from dotenv import load_dotenv\n",
    "import os\n",
    "import csv\n",
    "import time\n",
    "import datetime"
   ]
  },
  {
   "cell_type": "code",
   "execution_count": 34,
   "outputs": [
    {
     "name": "stderr",
     "output_type": "stream",
     "text": [
      "/var/folders/hq/ypf9892n1s94fwgm0p6k6k8m0000gn/T/ipykernel_35540/3579103318.py:7: DeprecationWarning: executable_path has been deprecated, please pass in a Service object\n",
      "  driver = webdriver.Chrome(ChromeDriverManager().install(), chrome_options=options)\n",
      "/var/folders/hq/ypf9892n1s94fwgm0p6k6k8m0000gn/T/ipykernel_35540/3579103318.py:7: DeprecationWarning: use options instead of chrome_options\n",
      "  driver = webdriver.Chrome(ChromeDriverManager().install(), chrome_options=options)\n"
     ]
    }
   ],
   "source": [
    "# Open the browser\n",
    "options = webdriver.ChromeOptions()\n",
    "prefs = {\n",
    "    \"download.default_directory\": f\"{os.getcwd()}/downloads\"\n",
    "}\n",
    "options.add_experimental_option(\"prefs\", prefs)\n",
    "driver = webdriver.Chrome(ChromeDriverManager().install(), chrome_options=options)"
   ],
   "metadata": {
    "collapsed": false,
    "pycharm": {
     "name": "#%%\n"
    }
   }
  },
  {
   "cell_type": "code",
   "execution_count": 35,
   "outputs": [],
   "source": [
    "# Get username and password from .env file\n",
    "load_dotenv()\n",
    "USER = os.getenv(\"USERNAME\")\n",
    "PASS = os.getenv(\"PASS\")\n",
    "COURSE_NO = os.getenv(\"COURSE_NO\")\n",
    "ASSIGNMENT_NO = os.getenv(\"ASSIGNMENT_NO\")\n",
    "BASE_URL = \"https://www.gradescope.com\""
   ],
   "metadata": {
    "collapsed": false,
    "pycharm": {
     "name": "#%%\n"
    }
   }
  },
  {
   "cell_type": "code",
   "execution_count": 36,
   "outputs": [],
   "source": [
    "# Log in\n",
    "login_url = f\"{BASE_URL}/login\"\n",
    "driver.get(login_url)\n",
    "username_input = driver.find_element(\"id\", \"session_email\")\n",
    "password_input = driver.find_element(\"id\", \"session_password\")\n",
    "submit = driver.find_element(\"name\", \"commit\")\n",
    "username_input.send_keys(USER)\n",
    "password_input.send_keys(PASS)\n",
    "submit.click()"
   ],
   "metadata": {
    "collapsed": false,
    "pycharm": {
     "name": "#%%\n"
    }
   }
  },
  {
   "cell_type": "code",
   "execution_count": 40,
   "outputs": [],
   "source": [
    "# Go to assignment \"review grades\" page\n",
    "download_url = f\"{BASE_URL}/courses/{COURSE_NO}/assignments/{ASSIGNMENT_NO}/scores.csv\"\n",
    "driver.get(download_url)\n",
    "time.sleep(2)\n",
    "try:\n",
    "    os.remove(f\"{os.getcwd()}/downloads/csv/scores.csv\")\n",
    "except FileNotFoundError:\n",
    "    pass\n",
    "files = os.listdir(\"downloads/\")\n",
    "for file in files:\n",
    "    if \".csv\" in file:\n",
    "        os.rename(f\"downloads/{file}\", f\"downloads/csv/scores.csv\")"
   ],
   "metadata": {
    "collapsed": false,
    "pycharm": {
     "name": "#%%\n"
    }
   }
  },
  {
   "cell_type": "code",
   "execution_count": 50,
   "outputs": [
    {
     "name": "stdout",
     "output_type": "stream",
     "text": [
      "2022-11-05 21:29:08 -0400\n"
     ]
    },
    {
     "data": {
      "text/plain": "{'Kamryn Ohly': [{'student': 'Zach Elan Abrams',\n   'link': 'https://www.gradescope.com/courses/411020/assignments/2140454/submissions/145394701.zip'},\n  {'student': 'William Zhang',\n   'link': 'https://www.gradescope.com/courses/411020/assignments/2140454/submissions/146186858.zip'},\n  {'student': 'Joey Philippe Bejjani',\n   'link': 'https://www.gradescope.com/courses/411020/assignments/2140454/submissions/146422254.zip'}],\n 'Nick DeSanctis': [{'student': 'Cameron Hamby',\n   'link': 'https://www.gradescope.com/courses/411020/assignments/2140454/submissions/145560078.zip'},\n  {'student': 'Darren Dinh-Anh-Kien Tran',\n   'link': 'https://www.gradescope.com/courses/411020/assignments/2140454/submissions/146721632.zip'}],\n 'Michael Hu': [{'student': 'Phoebe Zhang',\n   'link': 'https://www.gradescope.com/courses/411020/assignments/2140454/submissions/145654106.zip'},\n  {'student': 'Michelle Jia Chang',\n   'link': 'https://www.gradescope.com/courses/411020/assignments/2140454/submissions/145987810.zip'},\n  {'student': 'Julia Jean Poulson',\n   'link': 'https://www.gradescope.com/courses/411020/assignments/2140454/submissions/146311677.zip'},\n  {'student': 'My Nhat Nguyen',\n   'link': 'https://www.gradescope.com/courses/411020/assignments/2140454/submissions/146750768.zip'}],\n 'Westin Musser': [{'student': 'Jessica Dellisola',\n   'link': 'https://www.gradescope.com/courses/411020/assignments/2140454/submissions/145828050.zip'},\n  {'student': 'Joshua David Stanton',\n   'link': 'https://www.gradescope.com/courses/411020/assignments/2140454/submissions/146682412.zip'}],\n 'Margaret Tanzosh': [{'student': 'Jules Gardener',\n   'link': 'https://www.gradescope.com/courses/411020/assignments/2140454/submissions/145844130.zip'}],\n 'Mikel Davies': [{'student': 'Jamie Shan-Jie Liu',\n   'link': 'https://www.gradescope.com/courses/411020/assignments/2140454/submissions/145864868.zip'}],\n 'Aaron Berger': [{'student': 'Riley Kunz',\n   'link': 'https://www.gradescope.com/courses/411020/assignments/2140454/submissions/145866968.zip'},\n  {'student': 'Toyosi Naomi Egbebi',\n   'link': 'https://www.gradescope.com/courses/411020/assignments/2140454/submissions/146278626.zip'}],\n 'Guy White': [{'student': 'Rafael Curran',\n   'link': 'https://www.gradescope.com/courses/411020/assignments/2140454/submissions/145918722.zip'},\n  {'student': 'Marco Scibelli',\n   'link': 'https://www.gradescope.com/courses/411020/assignments/2140454/submissions/146001761.zip'},\n  {'student': 'Christopher Gibbons',\n   'link': 'https://www.gradescope.com/courses/411020/assignments/2140454/submissions/146513307.zip'},\n  {'student': 'Manuel Barbara',\n   'link': 'https://www.gradescope.com/courses/411020/assignments/2140454/submissions/146697413.zip'}],\n 'Sam Mucyo': [{'student': 'Daniel Patrick Tracy',\n   'link': 'https://www.gradescope.com/courses/411020/assignments/2140454/submissions/145974581.zip'}],\n 'Isabel Kim': [{'student': 'Mariela Rodriguez Aguilar',\n   'link': 'https://www.gradescope.com/courses/411020/assignments/2140454/submissions/145978199.zip'},\n  {'student': 'Kyle Louis Mandell',\n   'link': 'https://www.gradescope.com/courses/411020/assignments/2140454/submissions/146742162.zip'}],\n 'Rebeca Fontoura': [{'student': 'Bella Kim',\n   'link': 'https://www.gradescope.com/courses/411020/assignments/2140454/submissions/145990746.zip'},\n  {'student': 'Max Murphy',\n   'link': 'https://www.gradescope.com/courses/411020/assignments/2140454/submissions/146168688.zip'}],\n 'Jocelyn Hsieh': [{'student': 'Heather Haim Park',\n   'link': 'https://www.gradescope.com/courses/411020/assignments/2140454/submissions/145993451.zip'},\n  {'student': 'Salma Douieb',\n   'link': 'https://www.gradescope.com/courses/411020/assignments/2140454/submissions/146719643.zip'}],\n 'Julianna Zhao': [{'student': 'Sahar Anjun Maisha',\n   'link': 'https://www.gradescope.com/courses/411020/assignments/2140454/submissions/146030767.zip'},\n  {'student': 'Matthew John Filipowski',\n   'link': 'https://www.gradescope.com/courses/411020/assignments/2140454/submissions/146221839.zip'},\n  {'student': 'Rahul Prasad',\n   'link': 'https://www.gradescope.com/courses/411020/assignments/2140454/submissions/146726923.zip'}],\n 'Inko Bovenzi': [{'student': 'Jackson Thomas Moody',\n   'link': 'https://www.gradescope.com/courses/411020/assignments/2140454/submissions/146065327.zip'},\n  {'student': 'Andrew Jingyuan Zhang',\n   'link': 'https://www.gradescope.com/courses/411020/assignments/2140454/submissions/146625608.zip'},\n  {'student': 'Julien Dickinson Berman',\n   'link': 'https://www.gradescope.com/courses/411020/assignments/2140454/submissions/146654089.zip'},\n  {'student': 'Aldo Marino Stefanoni',\n   'link': 'https://www.gradescope.com/courses/411020/assignments/2140454/submissions/146712640.zip'}],\n 'Gabe LeBlanc': [{'student': 'Audrey Nuo Kang',\n   'link': 'https://www.gradescope.com/courses/411020/assignments/2140454/submissions/146103476.zip'},\n  {'student': 'Jingyi Jia',\n   'link': 'https://www.gradescope.com/courses/411020/assignments/2140454/submissions/146357331.zip'},\n  {'student': \"Giovanni Maria D'Antonio\",\n   'link': 'https://www.gradescope.com/courses/411020/assignments/2140454/submissions/146744768.zip'}],\n 'Kenny Kim': [{'student': 'Lexie Kaplan',\n   'link': 'https://www.gradescope.com/courses/411020/assignments/2140454/submissions/146116992.zip'},\n  {'student': 'Jack William Cenovic',\n   'link': 'https://www.gradescope.com/courses/411020/assignments/2140454/submissions/146582533.zip'},\n  {'student': 'Duke Moon',\n   'link': 'https://www.gradescope.com/courses/411020/assignments/2140454/submissions/146672096.zip'},\n  {'student': 'Austin Barkas',\n   'link': 'https://www.gradescope.com/courses/411020/assignments/2140454/submissions/146707758.zip'}],\n 'Jayden Personnat': [{'student': 'Mattie Angelique Hung',\n   'link': 'https://www.gradescope.com/courses/411020/assignments/2140454/submissions/146177486.zip'}],\n 'Gerson Personnat': [{'student': 'Maria Su Cheng',\n   'link': 'https://www.gradescope.com/courses/411020/assignments/2140454/submissions/146222608.zip'},\n  {'student': 'Max Christopher',\n   'link': 'https://www.gradescope.com/courses/411020/assignments/2140454/submissions/146730212.zip'}],\n 'Josh Park': [{'student': 'Arba Kamberi',\n   'link': 'https://www.gradescope.com/courses/411020/assignments/2140454/submissions/146243002.zip'}],\n 'Amulya Garimella': [{'student': 'Joey Kurek',\n   'link': 'https://www.gradescope.com/courses/411020/assignments/2140454/submissions/146303551.zip'},\n  {'student': 'Ioana-Anca Belu',\n   'link': 'https://www.gradescope.com/courses/411020/assignments/2140454/submissions/146693116.zip'}],\n 'Bobby McCarthy': [{'student': 'Isabella Sofia Mandis',\n   'link': 'https://www.gradescope.com/courses/411020/assignments/2140454/submissions/146305428.zip'}],\n 'Inno Munai': [{'student': 'Six Yu',\n   'link': 'https://www.gradescope.com/courses/411020/assignments/2140454/submissions/146310079.zip'},\n  {'student': 'Daniel Lee',\n   'link': 'https://www.gradescope.com/courses/411020/assignments/2140454/submissions/146414140.zip'}],\n 'Dhrub Singh': [{'student': 'Alex C Lim',\n   'link': 'https://www.gradescope.com/courses/411020/assignments/2140454/submissions/146313401.zip'},\n  {'student': 'Xander Zurovec',\n   'link': 'https://www.gradescope.com/courses/411020/assignments/2140454/submissions/146377781.zip'},\n  {'student': 'Kim Nahari',\n   'link': 'https://www.gradescope.com/courses/411020/assignments/2140454/submissions/146407634.zip'},\n  {'student': 'Dinan Hamdi Elsyad',\n   'link': 'https://www.gradescope.com/courses/411020/assignments/2140454/submissions/146571416.zip'},\n  {'student': 'Emma Kathleen Greaves',\n   'link': 'https://www.gradescope.com/courses/411020/assignments/2140454/submissions/146748309.zip'}],\n 'Josh Archibald': [{'student': 'Abhay Vishnu Duggirala',\n   'link': 'https://www.gradescope.com/courses/411020/assignments/2140454/submissions/146319498.zip'},\n  {'student': 'Anh-Thu Anh Le',\n   'link': 'https://www.gradescope.com/courses/411020/assignments/2140454/submissions/146662173.zip'}],\n 'Cole Branca': [{'student': 'Hildur Thora Hakonardottir',\n   'link': 'https://www.gradescope.com/courses/411020/assignments/2140454/submissions/146349949.zip'},\n  {'student': 'Laura Connor',\n   'link': 'https://www.gradescope.com/courses/411020/assignments/2140454/submissions/146700982.zip'},\n  {'student': 'Nim Ravid',\n   'link': 'https://www.gradescope.com/courses/411020/assignments/2140454/submissions/146748384.zip'}],\n 'Matthew Andrews': [{'student': 'Matthew D Kotzbauer',\n   'link': 'https://www.gradescope.com/courses/411020/assignments/2140454/submissions/146356520.zip'},\n  {'student': 'Caleb King',\n   'link': 'https://www.gradescope.com/courses/411020/assignments/2140454/submissions/146630257.zip'}],\n 'Jacob Fernandes': [{'student': 'Radvilas Pelanis',\n   'link': 'https://www.gradescope.com/courses/411020/assignments/2140454/submissions/146361776.zip'}],\n 'Emily Nguyen': [{'student': 'Raihana Rahman',\n   'link': 'https://www.gradescope.com/courses/411020/assignments/2140454/submissions/146366230.zip'},\n  {'student': 'Makena Rylee Gates',\n   'link': 'https://www.gradescope.com/courses/411020/assignments/2140454/submissions/146750855.zip'}],\n 'Olivia Fu': [{'student': 'Jerry Li',\n   'link': 'https://www.gradescope.com/courses/411020/assignments/2140454/submissions/146424785.zip'},\n  {'student': 'Sebastian Cisterna',\n   'link': 'https://www.gradescope.com/courses/411020/assignments/2140454/submissions/146697959.zip'},\n  {'student': 'Lydia Lingyi Qin',\n   'link': 'https://www.gradescope.com/courses/411020/assignments/2140454/submissions/146713654.zip'},\n  {'student': 'Karina Elisabeth Chung',\n   'link': 'https://www.gradescope.com/courses/411020/assignments/2140454/submissions/146716946.zip'}],\n 'Rodrick Shumba': [{'student': 'Noa Ren√©e Horowitz',\n   'link': 'https://www.gradescope.com/courses/411020/assignments/2140454/submissions/146434304.zip'},\n  {'student': 'Maya Rohini Ganesh',\n   'link': 'https://www.gradescope.com/courses/411020/assignments/2140454/submissions/146564398.zip'},\n  {'student': 'Angela Wu',\n   'link': 'https://www.gradescope.com/courses/411020/assignments/2140454/submissions/146707054.zip'}],\n 'Brave Mugisha': [{'student': 'Marcus Eng',\n   'link': 'https://www.gradescope.com/courses/411020/assignments/2140454/submissions/146494925.zip'}],\n 'Daniel Chang': [{'student': 'Bryan Leighton Basil',\n   'link': 'https://www.gradescope.com/courses/411020/assignments/2140454/submissions/146531790.zip'}],\n 'Alex Karbowski': [{'student': 'Matthew Allana',\n   'link': 'https://www.gradescope.com/courses/411020/assignments/2140454/submissions/146538102.zip'},\n  {'student': 'Noah Evers',\n   'link': 'https://www.gradescope.com/courses/411020/assignments/2140454/submissions/146705004.zip'}],\n 'Tom Ballatore': [{'student': 'Edward Mao',\n   'link': 'https://www.gradescope.com/courses/411020/assignments/2140454/submissions/146589617.zip'}],\n 'Grace Li': [{'student': 'Cody Chou',\n   'link': 'https://www.gradescope.com/courses/411020/assignments/2140454/submissions/146591538.zip'},\n  {'student': 'Lotus Nasser',\n   'link': 'https://www.gradescope.com/courses/411020/assignments/2140454/submissions/146727047.zip'}],\n 'Jonathan Luo': [{'student': 'Michael Xiang',\n   'link': 'https://www.gradescope.com/courses/411020/assignments/2140454/submissions/146614652.zip'}],\n 'Jennifer Xiong': [{'student': 'John Russell',\n   'link': 'https://www.gradescope.com/courses/411020/assignments/2140454/submissions/146636682.zip'}],\n 'Kyra Mo': [{'student': 'Alex Alexander James',\n   'link': 'https://www.gradescope.com/courses/411020/assignments/2140454/submissions/146650257.zip'},\n  {'student': 'KaiLan Su Mackey',\n   'link': 'https://www.gradescope.com/courses/411020/assignments/2140454/submissions/146720643.zip'}],\n 'Kelly Ding': [{'student': 'Vimala Shantha Alagappan',\n   'link': 'https://www.gradescope.com/courses/411020/assignments/2140454/submissions/146708152.zip'}],\n 'Josephine Schizer': [{'student': 'Sofia Grace Melnychuck',\n   'link': 'https://www.gradescope.com/courses/411020/assignments/2140454/submissions/146712933.zip'}],\n 'Ibta Chowdhury': [{'student': 'Aayush Kadakia',\n   'link': 'https://www.gradescope.com/courses/411020/assignments/2140454/submissions/146715575.zip'},\n  {'student': 'Ziye Tao',\n   'link': 'https://www.gradescope.com/courses/411020/assignments/2140454/submissions/146729524.zip'}],\n 'Zad Chin': [{'student': 'Steven Harris Blank',\n   'link': 'https://www.gradescope.com/courses/411020/assignments/2140454/submissions/146723979.zip'}],\n 'Clara Chen': [{'student': 'Zlata Perova',\n   'link': 'https://www.gradescope.com/courses/411020/assignments/2140454/submissions/146724257.zip'}],\n 'Nathalie Acosta': [{'student': 'Gabby Jordan Troy',\n   'link': 'https://www.gradescope.com/courses/411020/assignments/2140454/submissions/146731841.zip'}],\n 'Jong': [],\n 'Thornton': [],\n 'Humphrey': [],\n 'Esther An': [],\n 'TBD': [],\n 'Bryan Han': [],\n 'Andrew Holmes': [],\n 'Zhang': [],\n 'Leggett': [],\n 'Christo Savalas': [],\n 'Yang Xiang': [],\n 'Cho': [],\n 'Mario Fares': [],\n '': [],\n 'Zenke': [],\n 'Omar Elshamy': [],\n 'Yu': [],\n 'Deskur': []}"
     },
     "execution_count": 50,
     "metadata": {},
     "output_type": "execute_result"
    }
   ],
   "source": [
    "# Read CSV to get URLS, names, and TFs\n",
    "tfs = {}\n",
    "with open(\"last_sweep.txt\", \"r\") as f:\n",
    "    last_sweep = f.read()\n",
    "\n",
    "with open(\"downloads/csv/scores.csv\", \"r\") as f:\n",
    "    reader = csv.DictReader(f)\n",
    "    most_recent = last_sweep\n",
    "    print(most_recent)\n",
    "    for row in reader:\n",
    "        tf = row[\"Sections\"]\n",
    "        if tf not in tfs:\n",
    "            tfs[tf] = []\n",
    "        if row[\"Submission Time\"]:\n",
    "            if row[\"Submission Time\"] > most_recent:\n",
    "                most_recent = row[\"Submission Time\"]\n",
    "            tfs[tf].append({\n",
    "                \"student\": row[\"Name\"],\n",
    "                \"link\": f\"{BASE_URL}/courses/{COURSE_NO}/assignments/{ASSIGNMENT_NO}/submissions/{row    ['Submission ID']}.zip\"\n",
    "            })\n",
    "\n",
    "with open(\"last_sweep.txt\", \"w\") as f:\n",
    "    f.write(most_recent)"
   ],
   "metadata": {
    "collapsed": false,
    "pycharm": {
     "name": "#%%\n"
    }
   }
  },
  {
   "cell_type": "code",
   "execution_count": null,
   "outputs": [],
   "source": [],
   "metadata": {
    "collapsed": false,
    "pycharm": {
     "name": "#%%\n"
    }
   }
  }
 ],
 "metadata": {
  "kernelspec": {
   "display_name": "Python 3 (ipykernel)",
   "language": "python",
   "name": "python3"
  },
  "language_info": {
   "codemirror_mode": {
    "name": "ipython",
    "version": 3
   },
   "file_extension": ".py",
   "mimetype": "text/x-python",
   "name": "python",
   "nbconvert_exporter": "python",
   "pygments_lexer": "ipython3",
   "version": "3.9.13"
  }
 },
 "nbformat": 4,
 "nbformat_minor": 5
}